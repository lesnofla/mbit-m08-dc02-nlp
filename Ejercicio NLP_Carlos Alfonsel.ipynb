{
 "cells": [
  {
   "cell_type": "markdown",
   "metadata": {},
   "source": [
    "<img src=\"./mbit-logo.gif\" align=\"right\" style=\"float\" width=\"55\">\n",
    "<font color=\"#CA3532\"><h1 align=\"left\">EJERCICIO: PROCESADO DE LENGUAJE NATURAL (NLP)</h1></font>\n",
    "<font color=\"#CA3532\"><h2 align=\"left\">Máster en Big Data, Cloud & Analytics 2019-2020</h2></font>\n",
    "<font color=\"#6E6E6E\"><h4 align=\"left\">Carlos Alfonsel <a> carlos.alfonsel@mbitschool.com </a> </h4></font> "
   ]
  },
  {
   "cell_type": "markdown",
   "metadata": {},
   "source": [
    "# Ejercicio de Procesado de Lenguaje Natural\n",
    "En este ejercicio vamos a utilizar las técnicas aprendidas de NLP para clasificar la tipología de un conjunto de reclamaciones ciudadanas.  \n",
    "Utilizaremos un modelo TF-IDF básico, y luego probaremos con bigrams y una reducción de dimensionalidad LSA para ver si obtenemos alguna mejora.\n",
    "\n",
    "### Importación librerías"
   ]
  },
  {
   "cell_type": "code",
   "execution_count": 1,
   "metadata": {},
   "outputs": [
    {
     "name": "stderr",
     "output_type": "stream",
     "text": [
      "C:\\Users\\calfo\\Anaconda3\\envs\\env_ml\\lib\\site-packages\\sklearn\\utils\\deprecation.py:144: FutureWarning: The sklearn.ensemble.forest module is  deprecated in version 0.22 and will be removed in version 0.24. The corresponding classes / functions should instead be imported from sklearn.ensemble. Anything that cannot be imported from sklearn.ensemble is now part of the private API.\n",
      "  warnings.warn(message, FutureWarning)\n",
      "paramiko missing, opening SSH/SCP/SFTP paths will be disabled.  `pip install paramiko` to suppress\n"
     ]
    }
   ],
   "source": [
    "import numpy  as np\n",
    "import pandas as pd\n",
    "import spacy\n",
    "\n",
    "pd.set_option('display.max_colwidth', None)\n",
    "\n",
    "# Importa el resto de librerías necesarias:\n",
    "import matplotlib.pyplot as plt\n",
    "import seaborn           as sb\n",
    "%matplotlib inline\n",
    "\n",
    "# LIBRERÍAS PARA EXTRACCIÓN DE CARACTERÍSTICAS Y PARA ENTRENAMIENTO/VALIDACIÓN DE MODELOS DE ML:\n",
    "from sklearn.feature_extraction.text import CountVectorizer, TfidfVectorizer\n",
    "from sklearn.model_selection         import train_test_split\n",
    "from sklearn.model_selection         import KFold\n",
    "from sklearn.model_selection         import cross_val_score\n",
    "\n",
    "# LIBRERÍAS NECESARIAS PARA MODELOS DE ML:\n",
    "from sklearn.linear_model            import LinearRegression       # Modelo de Regresión Lineal\n",
    "from sklearn.linear_model            import LogisticRegression     # Modelo de Regresión Logísitica\n",
    "from sklearn.linear_model            import SGDClassifier          # Clasificador Lineal con SGD (Stochastic Gradient-Descent)\n",
    "from sklearn.naive_bayes             import GaussianNB             # Modelo Naive-Bayes de tipo Gaussiano\n",
    "from sklearn.naive_bayes             import MultinomialNB          # Modelo Naive-Bayes de tipo Multinomial\n",
    "from sklearn.neighbors               import KNeighborsClassifier   # Modelo K-Nearest Neighbors\n",
    "from sklearn.svm                     import SVC                    # Modelo Support Vector Machine\n",
    "from sklearn.tree                    import DecisionTreeClassifier # Árbol de Decisión \n",
    "from sklearn.ensemble.forest         import RandomForestClassifier # Modelo Random-Forest \n",
    "\n",
    "# LIBRERÍAS NECESARIAS PARA OBTENER MÉTRICAS DE MODELOS DE ML:\n",
    "from sklearn.metrics                 import accuracy_score\n",
    "from sklearn.metrics                 import confusion_matrix\n",
    "from sklearn.metrics                 import classification_report\n",
    "from sklearn.metrics                 import roc_auc_score\n",
    "from sklearn.metrics                 import mean_squared_error, r2_score\n",
    "\n",
    "# LIBRERÍAS PARA PREPROCESADO Y LIMPIEZA DE TEXTO:\n",
    "import re, string\n",
    "\n",
    "# LIBRERÍA PARA CALCULAR MODELOS BASADOS EN WORD VECTORS:\n",
    "import gensim"
   ]
  },
  {
   "cell_type": "markdown",
   "metadata": {},
   "source": [
    "### Carga de los datos\n",
    "El archivo CSV de datos tiene tres columnas:  \n",
    "- Observaciones: el texto (incidencia) a clasificar\n",
    "- Tipología: la clase (etiqueta) de cada incidencia\n",
    "- Original: característica binaria que no se usa en este problema"
   ]
  },
  {
   "cell_type": "code",
   "execution_count": 2,
   "metadata": {},
   "outputs": [
    {
     "data": {
      "text/html": [
       "<div>\n",
       "<style scoped>\n",
       "    .dataframe tbody tr th:only-of-type {\n",
       "        vertical-align: middle;\n",
       "    }\n",
       "\n",
       "    .dataframe tbody tr th {\n",
       "        vertical-align: top;\n",
       "    }\n",
       "\n",
       "    .dataframe thead th {\n",
       "        text-align: right;\n",
       "    }\n",
       "</style>\n",
       "<table border=\"1\" class=\"dataframe\">\n",
       "  <thead>\n",
       "    <tr style=\"text-align: right;\">\n",
       "      <th></th>\n",
       "      <th>Tipología</th>\n",
       "      <th>Observaciones</th>\n",
       "      <th>Original</th>\n",
       "    </tr>\n",
       "  </thead>\n",
       "  <tbody>\n",
       "    <tr>\n",
       "      <th>175</th>\n",
       "      <td>Mobiliario Urbano</td>\n",
       "      <td>Cristal roto en la parada del autobus de la carretera, frente a la farmacia</td>\n",
       "      <td>NaN</td>\n",
       "    </tr>\n",
       "    <tr>\n",
       "      <th>106</th>\n",
       "      <td>Agua</td>\n",
       "      <td>No hay agua en los baños del area recreativa.</td>\n",
       "      <td>N</td>\n",
       "    </tr>\n",
       "    <tr>\n",
       "      <th>75</th>\n",
       "      <td>Agua</td>\n",
       "      <td>Rota la fuente del merendero, se sale el agua.</td>\n",
       "      <td>N</td>\n",
       "    </tr>\n",
       "    <tr>\n",
       "      <th>100</th>\n",
       "      <td>Parques y jardines</td>\n",
       "      <td>Escombros al lado de la carretera. Parece de una obra cercana.</td>\n",
       "      <td>N</td>\n",
       "    </tr>\n",
       "    <tr>\n",
       "      <th>61</th>\n",
       "      <td>Alumbrado</td>\n",
       "      <td>Me falla la luz en la granja. Ha pasado dos días y esto no puede ser.</td>\n",
       "      <td>N</td>\n",
       "    </tr>\n",
       "  </tbody>\n",
       "</table>\n",
       "</div>"
      ],
      "text/plain": [
       "              Tipología  \\\n",
       "175   Mobiliario Urbano   \n",
       "106                Agua   \n",
       "75                 Agua   \n",
       "100  Parques y jardines   \n",
       "61            Alumbrado   \n",
       "\n",
       "                                                                   Observaciones  \\\n",
       "175  Cristal roto en la parada del autobus de la carretera, frente a la farmacia   \n",
       "106                               No hay agua en los baños del area recreativa.    \n",
       "75                               Rota la fuente del merendero, se sale el agua.    \n",
       "100               Escombros al lado de la carretera. Parece de una obra cercana.   \n",
       "61         Me falla la luz en la granja. Ha pasado dos días y esto no puede ser.   \n",
       "\n",
       "    Original  \n",
       "175      NaN  \n",
       "106        N  \n",
       "75         N  \n",
       "100        N  \n",
       "61         N  "
      ]
     },
     "execution_count": 2,
     "metadata": {},
     "output_type": "execute_result"
    }
   ],
   "source": [
    "datos = pd.read_csv('incidencias.csv', sep = \";\")\n",
    "datos.sample(5)"
   ]
  },
  {
   "cell_type": "markdown",
   "metadata": {},
   "source": [
    "Muestra información del DataFrame y la cuenta de muestras en cada clase. ¿cuántas clases distintas hay? ¿están balanceadas?"
   ]
  },
  {
   "cell_type": "code",
   "execution_count": 3,
   "metadata": {},
   "outputs": [
    {
     "data": {
      "text/plain": [
       "(220, 3)"
      ]
     },
     "execution_count": 3,
     "metadata": {},
     "output_type": "execute_result"
    }
   ],
   "source": [
    "# COMPLETAR:\n",
    "datos.shape"
   ]
  },
  {
   "cell_type": "code",
   "execution_count": 4,
   "metadata": {},
   "outputs": [
    {
     "name": "stdout",
     "output_type": "stream",
     "text": [
      "<class 'pandas.core.frame.DataFrame'>\n",
      "RangeIndex: 220 entries, 0 to 219\n",
      "Data columns (total 3 columns):\n",
      " #   Column         Non-Null Count  Dtype \n",
      "---  ------         --------------  ----- \n",
      " 0   Tipología      220 non-null    object\n",
      " 1   Observaciones  220 non-null    object\n",
      " 2   Original       174 non-null    object\n",
      "dtypes: object(3)\n",
      "memory usage: 5.3+ KB\n"
     ]
    }
   ],
   "source": [
    "datos.info()"
   ]
  },
  {
   "cell_type": "code",
   "execution_count": 5,
   "metadata": {},
   "outputs": [
    {
     "data": {
      "text/plain": [
       "array(['Vía Pública', 'Agua', 'Alcantarillado', 'Alumbrado', 'Limpieza',\n",
       "       'Mobiliario Urbano', 'Parques y jardines',\n",
       "       'Plagas de insectos y roedores'], dtype=object)"
      ]
     },
     "execution_count": 5,
     "metadata": {},
     "output_type": "execute_result"
    }
   ],
   "source": [
    "datos['Tipología'].unique()"
   ]
  },
  {
   "cell_type": "code",
   "execution_count": 6,
   "metadata": {},
   "outputs": [
    {
     "name": "stdout",
     "output_type": "stream",
     "text": [
      "El número de tipos distintos de incidencias es: 8\n"
     ]
    }
   ],
   "source": [
    "print('El número de tipos distintos de incidencias es: ' + str(len(datos['Tipología'].unique())))"
   ]
  },
  {
   "cell_type": "code",
   "execution_count": 7,
   "metadata": {},
   "outputs": [
    {
     "data": {
      "text/plain": [
       "Alumbrado                        31\n",
       "Mobiliario Urbano                31\n",
       "Parques y jardines               29\n",
       "Vía Pública                      28\n",
       "Limpieza                         28\n",
       "Agua                             27\n",
       "Alcantarillado                   26\n",
       "Plagas de insectos y roedores    20\n",
       "Name: Tipología, dtype: int64"
      ]
     },
     "execution_count": 7,
     "metadata": {},
     "output_type": "execute_result"
    }
   ],
   "source": [
    "datos['Tipología'].value_counts()"
   ]
  },
  {
   "cell_type": "code",
   "execution_count": 8,
   "metadata": {},
   "outputs": [
    {
     "data": {
      "image/png": "[encoded data removed]",
      "text/plain": [
       "<Figure size 432x288 with 1 Axes>"
      ]
     },
     "metadata": {
      "needs_background": "light"
     },
     "output_type": "display_data"
    }
   ],
   "source": [
    "import matplotlib.pyplot as plt\n",
    "plot = datos['Tipología'].value_counts().plot(kind = 'bar', title = 'Número de Incidencias por Categoría')"
   ]
  },
  {
   "cell_type": "markdown",
   "metadata": {},
   "source": [
    "#### LAS 8 CLASES PARECEN ESTAR MÁS O MENOS BALANCEADAS."
   ]
  },
  {
   "cell_type": "code",
   "execution_count": 9,
   "metadata": {},
   "outputs": [
    {
     "data": {
      "text/html": [
       "<div>\n",
       "<style scoped>\n",
       "    .dataframe tbody tr th:only-of-type {\n",
       "        vertical-align: middle;\n",
       "    }\n",
       "\n",
       "    .dataframe tbody tr th {\n",
       "        vertical-align: top;\n",
       "    }\n",
       "\n",
       "    .dataframe thead th {\n",
       "        text-align: right;\n",
       "    }\n",
       "</style>\n",
       "<table border=\"1\" class=\"dataframe\">\n",
       "  <thead>\n",
       "    <tr style=\"text-align: right;\">\n",
       "      <th></th>\n",
       "      <th>Tipología</th>\n",
       "      <th>Observaciones</th>\n",
       "    </tr>\n",
       "  </thead>\n",
       "  <tbody>\n",
       "    <tr>\n",
       "      <th>62</th>\n",
       "      <td>Plagas de insectos y roedores</td>\n",
       "      <td>Los topos me estan comiendo el grano de siembra. Hay que hacer algo para controlarlo.</td>\n",
       "    </tr>\n",
       "    <tr>\n",
       "      <th>29</th>\n",
       "      <td>Parques y jardines</td>\n",
       "      <td>Astillas en el tobogán del parque de la escuela</td>\n",
       "    </tr>\n",
       "    <tr>\n",
       "      <th>23</th>\n",
       "      <td>Mobiliario Urbano</td>\n",
       "      <td>al mirador se la han caído azulejos</td>\n",
       "    </tr>\n",
       "    <tr>\n",
       "      <th>125</th>\n",
       "      <td>Vía Pública</td>\n",
       "      <td>En la granja de Tomás los perros andan sueltos al lado de la carretera y corren persiguiendo a los coches.</td>\n",
       "    </tr>\n",
       "    <tr>\n",
       "      <th>175</th>\n",
       "      <td>Mobiliario Urbano</td>\n",
       "      <td>Cristal roto en la parada del autobus de la carretera, frente a la farmacia</td>\n",
       "    </tr>\n",
       "  </tbody>\n",
       "</table>\n",
       "</div>"
      ],
      "text/plain": [
       "                         Tipología  \\\n",
       "62   Plagas de insectos y roedores   \n",
       "29              Parques y jardines   \n",
       "23               Mobiliario Urbano   \n",
       "125                    Vía Pública   \n",
       "175              Mobiliario Urbano   \n",
       "\n",
       "                                                                                                   Observaciones  \n",
       "62                         Los topos me estan comiendo el grano de siembra. Hay que hacer algo para controlarlo.  \n",
       "29                                                               Astillas en el tobogán del parque de la escuela  \n",
       "23                                                                           al mirador se la han caído azulejos  \n",
       "125  En la granja de Tomás los perros andan sueltos al lado de la carretera y corren persiguiendo a los coches.   \n",
       "175                                  Cristal roto en la parada del autobus de la carretera, frente a la farmacia  "
      ]
     },
     "execution_count": 9,
     "metadata": {},
     "output_type": "execute_result"
    }
   ],
   "source": [
    "# Eliminamos del dataframe la variable que no vamos a utilizar:\n",
    "datos = datos.drop('Original', axis = 1)\n",
    "datos.sample(5)"
   ]
  },
  {
   "cell_type": "markdown",
   "metadata": {},
   "source": [
    "### Limpieza del texto\n",
    "Programa una función para limpiar el texto en los siguientes términos:  \n",
    "- Elimina los números (expresión regular `r'\\d+'`)  \n",
    "- Elimina los signos de puntuación\n",
    "- Convierte todas las palabras a minúscula"
   ]
  },
  {
   "cell_type": "code",
   "execution_count": 10,
   "metadata": {},
   "outputs": [],
   "source": [
    "# COMPLETAR:\n",
    "import spacy, re, string\n",
    "\n",
    "# CARGAMOS EL MODELO DE LENGUAJE PARA ESPAÑOL:\n",
    "nlp = spacy.load('es_core_news_md')\n",
    "\n",
    "# Para eliminar símbolos de puntuación:\n",
    "pattern = re.compile('[{}]'.format(re.escape(string.punctuation)))\n",
    "\n",
    "def clean_text(doc):\n",
    "    '''Limpiamos y normalizamos un documento pasado como string'''\n",
    "    # Se eliminan los números mediante la expresión regular r'\\d+'\n",
    "    doc = re.sub(r'\\d+', '', doc)\n",
    "    # Tokenizamos el texto:\n",
    "    tokens = nlp(doc)\n",
    "    # Se pasa a minúsculas y se eliminan los signos de puntuación:\n",
    "    tokens = [tok.lower_ for tok in tokens if not tok.is_punct and not tok.is_space]\n",
    "    filtered_tokens = [pattern.sub('', token) for token in tokens]\n",
    "    # Lo unimos de nuevo en una cadena:\n",
    "    filtered_text = ' '.join(filtered_tokens)\n",
    "    return filtered_text\n"
   ]
  },
  {
   "cell_type": "markdown",
   "metadata": {},
   "source": [
    "Aplica la función de limpieza a la columna 'Observaciones' del DataFrame"
   ]
  },
  {
   "cell_type": "code",
   "execution_count": 11,
   "metadata": {},
   "outputs": [
    {
     "data": {
      "text/html": [
       "<div>\n",
       "<style scoped>\n",
       "    .dataframe tbody tr th:only-of-type {\n",
       "        vertical-align: middle;\n",
       "    }\n",
       "\n",
       "    .dataframe tbody tr th {\n",
       "        vertical-align: top;\n",
       "    }\n",
       "\n",
       "    .dataframe thead th {\n",
       "        text-align: right;\n",
       "    }\n",
       "</style>\n",
       "<table border=\"1\" class=\"dataframe\">\n",
       "  <thead>\n",
       "    <tr style=\"text-align: right;\">\n",
       "      <th></th>\n",
       "      <th>Tipología</th>\n",
       "      <th>Observaciones</th>\n",
       "    </tr>\n",
       "  </thead>\n",
       "  <tbody>\n",
       "    <tr>\n",
       "      <th>39</th>\n",
       "      <td>Mobiliario Urbano</td>\n",
       "      <td>el cartel de entrada al pueblo está pintado y no se lee bien</td>\n",
       "    </tr>\n",
       "    <tr>\n",
       "      <th>203</th>\n",
       "      <td>Agua</td>\n",
       "      <td>el agua se puede beber directamente del grifo o está contaminado por nitratos</td>\n",
       "    </tr>\n",
       "    <tr>\n",
       "      <th>44</th>\n",
       "      <td>Vía Pública</td>\n",
       "      <td>hay un jabalí atropellado muerto en el camino al alto de la travina</td>\n",
       "    </tr>\n",
       "    <tr>\n",
       "      <th>175</th>\n",
       "      <td>Mobiliario Urbano</td>\n",
       "      <td>cristal roto en la parada del autobus de la carretera frente a la farmacia</td>\n",
       "    </tr>\n",
       "    <tr>\n",
       "      <th>3</th>\n",
       "      <td>Vía Pública</td>\n",
       "      <td>rejilla metálica al lado de la carretera frente a casa de catalina y pepe en mal estado se ha producido una caída</td>\n",
       "    </tr>\n",
       "    <tr>\n",
       "      <th>70</th>\n",
       "      <td>Alcantarillado</td>\n",
       "      <td>water atascado en los baños públicos del merendero</td>\n",
       "    </tr>\n",
       "    <tr>\n",
       "      <th>179</th>\n",
       "      <td>Parques y jardines</td>\n",
       "      <td>la fuente está llena de abejas y da miedo acercarse</td>\n",
       "    </tr>\n",
       "    <tr>\n",
       "      <th>13</th>\n",
       "      <td>Alumbrado</td>\n",
       "      <td>la tapa de la farola se la ha llevado el aire</td>\n",
       "    </tr>\n",
       "    <tr>\n",
       "      <th>14</th>\n",
       "      <td>Alumbrado</td>\n",
       "      <td>farola sin luz</td>\n",
       "    </tr>\n",
       "    <tr>\n",
       "      <th>121</th>\n",
       "      <td>Plagas de insectos y roedores</td>\n",
       "      <td>muchas abejas en la fuente de la mota no se puede acercar uno a menos que tenga mucho cuidado</td>\n",
       "    </tr>\n",
       "  </tbody>\n",
       "</table>\n",
       "</div>"
      ],
      "text/plain": [
       "                         Tipología  \\\n",
       "39               Mobiliario Urbano   \n",
       "203                           Agua   \n",
       "44                     Vía Pública   \n",
       "175              Mobiliario Urbano   \n",
       "3                      Vía Pública   \n",
       "70                  Alcantarillado   \n",
       "179             Parques y jardines   \n",
       "13                       Alumbrado   \n",
       "14                       Alumbrado   \n",
       "121  Plagas de insectos y roedores   \n",
       "\n",
       "                                                                                                         Observaciones  \n",
       "39                                                        el cartel de entrada al pueblo está pintado y no se lee bien  \n",
       "203                                      el agua se puede beber directamente del grifo o está contaminado por nitratos  \n",
       "44                                                 hay un jabalí atropellado muerto en el camino al alto de la travina  \n",
       "175                                         cristal roto en la parada del autobus de la carretera frente a la farmacia  \n",
       "3    rejilla metálica al lado de la carretera frente a casa de catalina y pepe en mal estado se ha producido una caída  \n",
       "70                                                                  water atascado en los baños públicos del merendero  \n",
       "179                                                                la fuente está llena de abejas y da miedo acercarse  \n",
       "13                                                                       la tapa de la farola se la ha llevado el aire  \n",
       "14                                                                                                      farola sin luz  \n",
       "121                      muchas abejas en la fuente de la mota no se puede acercar uno a menos que tenga mucho cuidado  "
      ]
     },
     "execution_count": 11,
     "metadata": {},
     "output_type": "execute_result"
    }
   ],
   "source": [
    "# COMPLETAR:\n",
    "datos.Observaciones = datos.Observaciones.apply(clean_text)\n",
    "datos.sample(10)"
   ]
  },
  {
   "cell_type": "code",
   "execution_count": 12,
   "metadata": {},
   "outputs": [
    {
     "data": {
      "text/html": [
       "<div>\n",
       "<style scoped>\n",
       "    .dataframe tbody tr th:only-of-type {\n",
       "        vertical-align: middle;\n",
       "    }\n",
       "\n",
       "    .dataframe tbody tr th {\n",
       "        vertical-align: top;\n",
       "    }\n",
       "\n",
       "    .dataframe thead th {\n",
       "        text-align: right;\n",
       "    }\n",
       "</style>\n",
       "<table border=\"1\" class=\"dataframe\">\n",
       "  <thead>\n",
       "    <tr style=\"text-align: right;\">\n",
       "      <th></th>\n",
       "      <th>Tipología</th>\n",
       "      <th>Observaciones</th>\n",
       "    </tr>\n",
       "  </thead>\n",
       "  <tbody>\n",
       "    <tr>\n",
       "      <th>count</th>\n",
       "      <td>220</td>\n",
       "      <td>220</td>\n",
       "    </tr>\n",
       "    <tr>\n",
       "      <th>unique</th>\n",
       "      <td>8</td>\n",
       "      <td>219</td>\n",
       "    </tr>\n",
       "    <tr>\n",
       "      <th>top</th>\n",
       "      <td>Alumbrado</td>\n",
       "      <td>farola con bombilla colgando</td>\n",
       "    </tr>\n",
       "    <tr>\n",
       "      <th>freq</th>\n",
       "      <td>31</td>\n",
       "      <td>2</td>\n",
       "    </tr>\n",
       "  </tbody>\n",
       "</table>\n",
       "</div>"
      ],
      "text/plain": [
       "        Tipología                 Observaciones\n",
       "count         220                           220\n",
       "unique          8                           219\n",
       "top     Alumbrado  farola con bombilla colgando\n",
       "freq           31                             2"
      ]
     },
     "execution_count": 12,
     "metadata": {},
     "output_type": "execute_result"
    }
   ],
   "source": [
    "datos.describe()"
   ]
  },
  {
   "cell_type": "markdown",
   "metadata": {},
   "source": [
    "### Funciones auxiliares\n",
    "Completa estas funciones para calcular la matriz BoW y TF-IDF del Corpus de texto. La función `train_predict_evaluate_model` ya está definida por ti."
   ]
  },
  {
   "cell_type": "code",
   "execution_count": 13,
   "metadata": {},
   "outputs": [],
   "source": [
    "# Función para extraer el modelo TF-IDF del corpus:\n",
    "from sklearn.feature_extraction.text import CountVectorizer, TfidfVectorizer\n",
    "\n",
    "def bow_extractor(corpus, ngram_range = (1,1), min_df = 1, max_df = 1.0):\n",
    "    '''Función que ajusta un modelo BoW sobre un corpus de texto y devuelve el modelo y la matriz BoW.\n",
    "    El corpus se debe pasar como una lista de strings.'''\n",
    "    # COMPLETAR:\n",
    "    vectorizer = CountVectorizer(min_df = 1, max_df = 0.95)\n",
    "    features   = vectorizer.fit_transform(corpus)\n",
    "    return vectorizer, features\n",
    "\n",
    "    \n",
    "def tfidf_extractor(corpus, ngram_range = (1,1), min_df = 1, max_df = 1.0):\n",
    "    '''Función que ajusta un modelo TF-IDF sobre un corpus de texto y devuelve el modelo y la matriz TF-IDF. \n",
    "    El corpus se debe pasar como una lista de strings.'''   \n",
    "    # COMPLETAR:\n",
    "    vectorizer = TfidfVectorizer(min_df = 1, max_df = 0.95)\n",
    "    features   = vectorizer.fit_transform(corpus)\n",
    "    return vectorizer, features\n",
    "\n",
    "    \n",
    "def train_predict_evaluate_model(classifier, train_features, train_labels, test_features, test_labels):\n",
    "    '''Función que entrena un clasificador, lo evalúa sobre un conjunto de test, y muestra su rendimiento'''\n",
    "    # build model    \n",
    "    classifier.fit(train_features, train_labels)\n",
    "    # predict using model\n",
    "    predictions = classifier.predict(test_features) \n",
    "    # evaluate model prediction performance   \n",
    "    print(classification_report(test_labels, predictions))\n",
    "    return predictions "
   ]
  },
  {
   "cell_type": "markdown",
   "metadata": {},
   "source": [
    "### División del conjunto de datos\n",
    "Divide los datos en un conjunto de entrenamiento (`X_train`, `y_train`) y test (`X_test`, `y_test`) en una proporción 70-30:"
   ]
  },
  {
   "cell_type": "code",
   "execution_count": 14,
   "metadata": {},
   "outputs": [],
   "source": [
    "# COMPLETAR:\n",
    "from sklearn.model_selection import train_test_split\n",
    "\n",
    "X_train, X_test, y_train, y_test = train_test_split(datos['Observaciones'], datos['Tipología'], test_size = 0.3, random_state = 0)"
   ]
  },
  {
   "cell_type": "code",
   "execution_count": 15,
   "metadata": {},
   "outputs": [
    {
     "data": {
      "text/plain": [
       "49                                                                                       tejado hundido con la nevada\n",
       "105                                                                        sin agua en las duchas y baños del camping\n",
       "70                                                                 water atascado en los baños públicos del merendero\n",
       "123                                                                         señal de tráfico tapada por la vegetación\n",
       "177    a un banco en el parque de la fuente le falta un travesaño de madera y otro está roto no se puede sentar nadie\n",
       "Name: Observaciones, dtype: object"
      ]
     },
     "execution_count": 15,
     "metadata": {},
     "output_type": "execute_result"
    }
   ],
   "source": [
    "X_train.sample(5)"
   ]
  },
  {
   "cell_type": "code",
   "execution_count": 16,
   "metadata": {},
   "outputs": [
    {
     "data": {
      "text/plain": [
       "170    Mobiliario Urbano\n",
       "14             Alumbrado\n",
       "148             Limpieza\n",
       "94             Alumbrado\n",
       "165    Mobiliario Urbano\n",
       "Name: Tipología, dtype: object"
      ]
     },
     "execution_count": 16,
     "metadata": {},
     "output_type": "execute_result"
    }
   ],
   "source": [
    "y_train.sample(5)"
   ]
  },
  {
   "cell_type": "markdown",
   "metadata": {},
   "source": [
    "## Clasificación\n",
    "Entrena un clasificador sobre el conjunto de TRAIN y valida en TEST.  \n",
    "Prueba con las matrices BoW y TF-IDF, y utiliza los siguientes clasificadores de la librería `scikit-learn`:  \n",
    "```python\n",
    "modelLR = LogisticRegression()\n",
    "modelNB = GaussianNB()\n",
    "modelSVM = SGDClassifier(loss='hinge', max_iter=100)\n",
    "```\n",
    "Guarda las predicciones de todos los modelos (luego la usarás para mostrar la matriz de confusión)"
   ]
  },
  {
   "cell_type": "code",
   "execution_count": 17,
   "metadata": {},
   "outputs": [],
   "source": [
    "from sklearn.linear_model import LogisticRegression # Modelo de Regresión Logísitica\n",
    "from sklearn.naive_bayes  import GaussianNB         # Modelo Naive-Bayes de tipo Gaussiano\n",
    "from sklearn.naive_bayes  import MultinomialNB      # Modelo Naive-Bayes de tipo Multinomial\n",
    "from sklearn.linear_model import SGDClassifier      # Clasificador Lineal con SGD (Stochastic Gradient-Descent)\n",
    "\n",
    "modelLGR = LogisticRegression()\n",
    "modelGNB = GaussianNB        ()\n",
    "modelMNB = MultinomialNB     ()\n",
    "modelSVM = SGDClassifier     (loss = 'hinge', max_iter = 100)\n",
    "\n",
    "modelos1 = [('Logistic Regression'    , modelLGR),\n",
    "            ('Multinomial Naive-Bayes', modelMNB),\n",
    "            ('Linear SVM'             , modelSVM)]\n"
   ]
  },
  {
   "cell_type": "markdown",
   "metadata": {},
   "source": [
    "#### CUANDO SE INTENTA APLICAR UN MODELO NAIVE-BAYES GAUSSIANO A ESTE DATASET SE PRODUCE UN ERROR AL SER LAS VARIABLES CATEGÓRICAS.\n",
    "#### APLICAMOS POR TANTO UN MODELO NAIVE-BAYES MULTINOMIAL."
   ]
  },
  {
   "cell_type": "code",
   "execution_count": 18,
   "metadata": {},
   "outputs": [
    {
     "name": "stdout",
     "output_type": "stream",
     "text": [
      "Modelo Logistic Regression con características BoW\n",
      "                               precision    recall  f1-score   support\n",
      "\n",
      "                         Agua       1.00      0.75      0.86         8\n",
      "               Alcantarillado       0.45      0.50      0.48        10\n",
      "                    Alumbrado       0.89      0.73      0.80        11\n",
      "                     Limpieza       0.88      0.50      0.64        14\n",
      "            Mobiliario Urbano       0.29      0.71      0.42         7\n",
      "           Parques y jardines       0.44      0.80      0.57         5\n",
      "Plagas de insectos y roedores       1.00      1.00      1.00         3\n",
      "                  Vía Pública       0.67      0.25      0.36         8\n",
      "\n",
      "                     accuracy                           0.61        66\n",
      "                    macro avg       0.70      0.66      0.64        66\n",
      "                 weighted avg       0.71      0.61      0.62        66\n",
      "\n",
      "Modelo Multinomial Naive-Bayes con características BoW\n",
      "                               precision    recall  f1-score   support\n",
      "\n",
      "                         Agua       0.75      0.75      0.75         8\n",
      "               Alcantarillado       0.70      0.70      0.70        10\n",
      "                    Alumbrado       0.69      0.82      0.75        11\n",
      "                     Limpieza       1.00      0.14      0.25        14\n",
      "            Mobiliario Urbano       0.38      0.71      0.50         7\n",
      "           Parques y jardines       0.40      0.80      0.53         5\n",
      "Plagas de insectos y roedores       0.50      1.00      0.67         3\n",
      "                  Vía Pública       0.50      0.25      0.33         8\n",
      "\n",
      "                     accuracy                           0.58        66\n",
      "                    macro avg       0.62      0.65      0.56        66\n",
      "                 weighted avg       0.68      0.58      0.54        66\n",
      "\n",
      "Modelo Linear SVM con características BoW\n",
      "                               precision    recall  f1-score   support\n",
      "\n",
      "                         Agua       0.86      0.75      0.80         8\n",
      "               Alcantarillado       0.64      0.70      0.67        10\n",
      "                    Alumbrado       0.69      0.82      0.75        11\n",
      "                     Limpieza       0.67      0.29      0.40        14\n",
      "            Mobiliario Urbano       0.50      0.57      0.53         7\n",
      "           Parques y jardines       0.27      0.60      0.37         5\n",
      "Plagas de insectos y roedores       0.33      0.67      0.44         3\n",
      "                  Vía Pública       0.50      0.25      0.33         8\n",
      "\n",
      "                     accuracy                           0.56        66\n",
      "                    macro avg       0.56      0.58      0.54        66\n",
      "                 weighted avg       0.61      0.56      0.55        66\n",
      "\n"
     ]
    }
   ],
   "source": [
    "# 1.1. Entrenar clasificadores con modelos BoW.\n",
    "# 1.2. Calcular matriz BoW sobre conjunto de entrenamiento y test.\n",
    "# 1.3. Entrenar y validar los clasificadores.\n",
    "\n",
    "bow_vectorizer, bow_train_features = bow_extractor(X_train)\n",
    "bow_test_features                  = bow_vectorizer.transform(X_test)\n",
    "\n",
    "for m, clf in modelos1:\n",
    "    print('Modelo {} con características BoW'.format(m))\n",
    "    tfidf_predictions = train_predict_evaluate_model(classifier     = clf, \n",
    "                                                     train_features = bow_train_features, \n",
    "                                                     train_labels   = y_train, \n",
    "                                                     test_features  = bow_test_features, \n",
    "                                                     test_labels    = y_test)\n"
   ]
  },
  {
   "cell_type": "code",
   "execution_count": 19,
   "metadata": {},
   "outputs": [
    {
     "name": "stdout",
     "output_type": "stream",
     "text": [
      "Modelo Logistic Regression con características TF-IDF\n",
      "                               precision    recall  f1-score   support\n",
      "\n",
      "                         Agua       0.80      0.50      0.62         8\n",
      "               Alcantarillado       1.00      0.50      0.67        10\n",
      "                    Alumbrado       0.69      0.82      0.75        11\n",
      "                     Limpieza       1.00      0.21      0.35        14\n",
      "            Mobiliario Urbano       0.26      0.71      0.38         7\n",
      "           Parques y jardines       0.38      1.00      0.56         5\n",
      "Plagas de insectos y roedores       1.00      1.00      1.00         3\n",
      "                  Vía Pública       0.40      0.25      0.31         8\n",
      "\n",
      "                     accuracy                           0.55        66\n",
      "                    macro avg       0.69      0.62      0.58        66\n",
      "                 weighted avg       0.73      0.55      0.54        66\n",
      "\n",
      "Modelo Multinomial Naive-Bayes con características TF-IDF\n",
      "                               precision    recall  f1-score   support\n",
      "\n",
      "                         Agua       0.80      0.50      0.62         8\n",
      "               Alcantarillado       1.00      0.40      0.57        10\n",
      "                    Alumbrado       0.64      0.82      0.72        11\n",
      "                     Limpieza       0.00      0.00      0.00        14\n",
      "            Mobiliario Urbano       0.25      0.71      0.37         7\n",
      "           Parques y jardines       0.26      1.00      0.42         5\n",
      "Plagas de insectos y roedores       1.00      0.67      0.80         3\n",
      "                  Vía Pública       1.00      0.25      0.40         8\n",
      "\n",
      "                     accuracy                           0.47        66\n",
      "                    macro avg       0.62      0.54      0.49        66\n",
      "                 weighted avg       0.57      0.47      0.44        66\n",
      "\n",
      "Modelo Linear SVM con características TF-IDF\n",
      "                               precision    recall  f1-score   support\n",
      "\n",
      "                         Agua       0.70      0.88      0.78         8\n",
      "               Alcantarillado       0.78      0.70      0.74        10\n",
      "                    Alumbrado       1.00      0.73      0.84        11\n",
      "                     Limpieza       0.88      0.50      0.64        14\n",
      "            Mobiliario Urbano       0.42      0.71      0.53         7\n",
      "           Parques y jardines       0.29      0.40      0.33         5\n",
      "Plagas de insectos y roedores       0.60      1.00      0.75         3\n",
      "                  Vía Pública       0.43      0.38      0.40         8\n",
      "\n",
      "                     accuracy                           0.64        66\n",
      "                    macro avg       0.64      0.66      0.63        66\n",
      "                 weighted avg       0.70      0.64      0.64        66\n",
      "\n"
     ]
    },
    {
     "name": "stderr",
     "output_type": "stream",
     "text": [
      "C:\\Users\\calfo\\Anaconda3\\envs\\env_ml\\lib\\site-packages\\sklearn\\metrics\\_classification.py:1272: UndefinedMetricWarning: Precision and F-score are ill-defined and being set to 0.0 in labels with no predicted samples. Use `zero_division` parameter to control this behavior.\n",
      "  _warn_prf(average, modifier, msg_start, len(result))\n"
     ]
    }
   ],
   "source": [
    "# 2.1. Entrenar clasificadores con modelos TF-IDF.\n",
    "# 2.2. Calcular matriz TF-IDF sobre conjunto de entrenamiento y test.\n",
    "# 2.3. Entrenar y validar los clasificadores.\n",
    "\n",
    "tfidf_vectorizer, tfidf_train_features = tfidf_extractor(X_train)\n",
    "tfidf_test_features                    = tfidf_vectorizer.transform(X_test)\n",
    "\n",
    "for m, clf in modelos1:\n",
    "    print('Modelo {} con características TF-IDF'.format(m))\n",
    "    tfidf_predictions = train_predict_evaluate_model(classifier     = clf, \n",
    "                                                     train_features = tfidf_train_features,\n",
    "                                                     train_labels   = y_train,\n",
    "                                                     test_features  = tfidf_test_features,\n",
    "                                                     test_labels    = y_test)\n"
   ]
  },
  {
   "cell_type": "markdown",
   "metadata": {},
   "source": [
    "¿Cuál es el modelo que mejor funciona?  "
   ]
  },
  {
   "cell_type": "markdown",
   "metadata": {},
   "source": [
    "#### EL MODELO QUE MEJOR FUNCIONA (EN TÉRMINOS DE ACCURACY) CON ESTE DATASET ES UN SVM LINEAL CON CARACTERÍSTICAS TF-IDF."
   ]
  },
  {
   "cell_type": "code",
   "execution_count": 20,
   "metadata": {},
   "outputs": [
    {
     "name": "stdout",
     "output_type": "stream",
     "text": [
      "Entrenando con 2125 características\n",
      "Modelo Logistic Regression con características TF-IDF optimizadas\n",
      "                               precision    recall  f1-score   support\n",
      "\n",
      "                         Agua       0.80      0.50      0.62         8\n",
      "               Alcantarillado       1.00      0.30      0.46        10\n",
      "                    Alumbrado       0.60      0.82      0.69        11\n",
      "                     Limpieza       1.00      0.21      0.35        14\n",
      "            Mobiliario Urbano       0.29      0.86      0.43         7\n",
      "           Parques y jardines       0.31      0.80      0.44         5\n",
      "Plagas de insectos y roedores       1.00      0.67      0.80         3\n",
      "                  Vía Pública       0.50      0.25      0.33         8\n",
      "\n",
      "                     accuracy                           0.50        66\n",
      "                    macro avg       0.69      0.55      0.52        66\n",
      "                 weighted avg       0.72      0.50      0.49        66\n",
      "\n",
      "Modelo Multinomial Naive-Bayes con características TF-IDF optimizadas\n",
      "                               precision    recall  f1-score   support\n",
      "\n",
      "                         Agua       0.83      0.62      0.71         8\n",
      "               Alcantarillado       1.00      0.30      0.46        10\n",
      "                    Alumbrado       0.60      0.82      0.69        11\n",
      "                     Limpieza       1.00      0.14      0.25        14\n",
      "            Mobiliario Urbano       0.29      0.71      0.42         7\n",
      "           Parques y jardines       0.28      1.00      0.43         5\n",
      "Plagas de insectos y roedores       1.00      0.67      0.80         3\n",
      "                  Vía Pública       0.67      0.25      0.36         8\n",
      "\n",
      "                     accuracy                           0.50        66\n",
      "                    macro avg       0.71      0.56      0.52        66\n",
      "                 weighted avg       0.74      0.50      0.48        66\n",
      "\n",
      "Modelo Linear SVM con características TF-IDF optimizadas\n",
      "                               precision    recall  f1-score   support\n",
      "\n",
      "                         Agua       0.67      1.00      0.80         8\n",
      "               Alcantarillado       0.89      0.80      0.84        10\n",
      "                    Alumbrado       0.75      0.82      0.78        11\n",
      "                     Limpieza       0.91      0.71      0.80        14\n",
      "            Mobiliario Urbano       0.67      0.57      0.62         7\n",
      "           Parques y jardines       0.38      0.60      0.46         5\n",
      "Plagas de insectos y roedores       0.67      0.67      0.67         3\n",
      "                  Vía Pública       0.40      0.25      0.31         8\n",
      "\n",
      "                     accuracy                           0.70        66\n",
      "                    macro avg       0.67      0.68      0.66        66\n",
      "                 weighted avg       0.71      0.70      0.69        66\n",
      "\n"
     ]
    }
   ],
   "source": [
    "vect_opt = TfidfVectorizer(min_df = 1, ngram_range = (1,2), max_df = 0.5).fit(X_train)\n",
    "\n",
    "X_train_vectorized = vect_opt.transform(X_train)\n",
    "X_test_vectorized  = vect_opt.transform(X_test)\n",
    "\n",
    "print('Entrenando con {} características'.format(len(vect_opt.get_feature_names())))\n",
    "\n",
    "for m, clf in modelos1:\n",
    "    print('Modelo {} con características TF-IDF optimizadas'.format(m))\n",
    "    tfidf_predictions = train_predict_evaluate_model(classifier     = clf,\n",
    "                                                     train_features = X_train_vectorized,\n",
    "                                                     train_labels   = y_train,\n",
    "                                                     test_features  = X_test_vectorized,\n",
    "                                                     test_labels    = y_test)\n"
   ]
  },
  {
   "cell_type": "markdown",
   "metadata": {},
   "source": [
    "Muestra la matriz de confusión sobre el conjunto de test usando el siguiente código (debes sustituir `prediccion` por el array de predicciones de tu mejor modelo):"
   ]
  },
  {
   "cell_type": "code",
   "execution_count": 21,
   "metadata": {},
   "outputs": [
    {
     "name": "stdout",
     "output_type": "stream",
     "text": [
      "                               precision    recall  f1-score   support\n",
      "\n",
      "                         Agua       1.00      0.75      0.86         8\n",
      "               Alcantarillado       0.67      0.80      0.73        10\n",
      "                    Alumbrado       0.75      0.82      0.78        11\n",
      "                     Limpieza       0.91      0.71      0.80        14\n",
      "            Mobiliario Urbano       0.56      0.71      0.63         7\n",
      "           Parques y jardines       0.38      0.60      0.46         5\n",
      "Plagas de insectos y roedores       0.40      0.67      0.50         3\n",
      "                  Vía Pública       0.67      0.25      0.36         8\n",
      "\n",
      "                     accuracy                           0.68        66\n",
      "                    macro avg       0.67      0.66      0.64        66\n",
      "                 weighted avg       0.73      0.68      0.68        66\n",
      "\n"
     ]
    }
   ],
   "source": [
    "prediccion = train_predict_evaluate_model(classifier     = modelSVM,\n",
    "                                          train_features = X_train_vectorized,\n",
    "                                          train_labels   = y_train,\n",
    "                                          test_features  = X_test_vectorized,\n",
    "                                          test_labels    = y_test)\n"
   ]
  },
  {
   "cell_type": "code",
   "execution_count": 22,
   "metadata": {},
   "outputs": [
    {
     "data": {
      "text/html": [
       "<div>\n",
       "<style scoped>\n",
       "    .dataframe tbody tr th:only-of-type {\n",
       "        vertical-align: middle;\n",
       "    }\n",
       "\n",
       "    .dataframe tbody tr th {\n",
       "        vertical-align: top;\n",
       "    }\n",
       "\n",
       "    .dataframe thead th {\n",
       "        text-align: right;\n",
       "    }\n",
       "</style>\n",
       "<table border=\"1\" class=\"dataframe\">\n",
       "  <thead>\n",
       "    <tr style=\"text-align: right;\">\n",
       "      <th>Prediccion</th>\n",
       "      <th>Agua</th>\n",
       "      <th>Alcantarillado</th>\n",
       "      <th>Alumbrado</th>\n",
       "      <th>Limpieza</th>\n",
       "      <th>Mobiliario Urbano</th>\n",
       "      <th>Parques y jardines</th>\n",
       "      <th>Plagas de insectos y roedores</th>\n",
       "      <th>Vía Pública</th>\n",
       "      <th>All</th>\n",
       "    </tr>\n",
       "    <tr>\n",
       "      <th>Real</th>\n",
       "      <th></th>\n",
       "      <th></th>\n",
       "      <th></th>\n",
       "      <th></th>\n",
       "      <th></th>\n",
       "      <th></th>\n",
       "      <th></th>\n",
       "      <th></th>\n",
       "      <th></th>\n",
       "    </tr>\n",
       "  </thead>\n",
       "  <tbody>\n",
       "    <tr>\n",
       "      <th>Agua</th>\n",
       "      <td>6</td>\n",
       "      <td>0</td>\n",
       "      <td>1</td>\n",
       "      <td>0</td>\n",
       "      <td>0</td>\n",
       "      <td>1</td>\n",
       "      <td>0</td>\n",
       "      <td>0</td>\n",
       "      <td>8</td>\n",
       "    </tr>\n",
       "    <tr>\n",
       "      <th>Alcantarillado</th>\n",
       "      <td>0</td>\n",
       "      <td>8</td>\n",
       "      <td>1</td>\n",
       "      <td>0</td>\n",
       "      <td>0</td>\n",
       "      <td>0</td>\n",
       "      <td>1</td>\n",
       "      <td>0</td>\n",
       "      <td>10</td>\n",
       "    </tr>\n",
       "    <tr>\n",
       "      <th>Alumbrado</th>\n",
       "      <td>0</td>\n",
       "      <td>0</td>\n",
       "      <td>9</td>\n",
       "      <td>0</td>\n",
       "      <td>1</td>\n",
       "      <td>0</td>\n",
       "      <td>1</td>\n",
       "      <td>0</td>\n",
       "      <td>11</td>\n",
       "    </tr>\n",
       "    <tr>\n",
       "      <th>Limpieza</th>\n",
       "      <td>0</td>\n",
       "      <td>2</td>\n",
       "      <td>0</td>\n",
       "      <td>10</td>\n",
       "      <td>1</td>\n",
       "      <td>0</td>\n",
       "      <td>0</td>\n",
       "      <td>1</td>\n",
       "      <td>14</td>\n",
       "    </tr>\n",
       "    <tr>\n",
       "      <th>Mobiliario Urbano</th>\n",
       "      <td>0</td>\n",
       "      <td>1</td>\n",
       "      <td>0</td>\n",
       "      <td>0</td>\n",
       "      <td>5</td>\n",
       "      <td>1</td>\n",
       "      <td>0</td>\n",
       "      <td>0</td>\n",
       "      <td>7</td>\n",
       "    </tr>\n",
       "    <tr>\n",
       "      <th>Parques y jardines</th>\n",
       "      <td>0</td>\n",
       "      <td>0</td>\n",
       "      <td>0</td>\n",
       "      <td>1</td>\n",
       "      <td>0</td>\n",
       "      <td>3</td>\n",
       "      <td>1</td>\n",
       "      <td>0</td>\n",
       "      <td>5</td>\n",
       "    </tr>\n",
       "    <tr>\n",
       "      <th>Plagas de insectos y roedores</th>\n",
       "      <td>0</td>\n",
       "      <td>0</td>\n",
       "      <td>1</td>\n",
       "      <td>0</td>\n",
       "      <td>0</td>\n",
       "      <td>0</td>\n",
       "      <td>2</td>\n",
       "      <td>0</td>\n",
       "      <td>3</td>\n",
       "    </tr>\n",
       "    <tr>\n",
       "      <th>Vía Pública</th>\n",
       "      <td>0</td>\n",
       "      <td>1</td>\n",
       "      <td>0</td>\n",
       "      <td>0</td>\n",
       "      <td>2</td>\n",
       "      <td>3</td>\n",
       "      <td>0</td>\n",
       "      <td>2</td>\n",
       "      <td>8</td>\n",
       "    </tr>\n",
       "    <tr>\n",
       "      <th>All</th>\n",
       "      <td>6</td>\n",
       "      <td>12</td>\n",
       "      <td>12</td>\n",
       "      <td>11</td>\n",
       "      <td>9</td>\n",
       "      <td>8</td>\n",
       "      <td>5</td>\n",
       "      <td>3</td>\n",
       "      <td>66</td>\n",
       "    </tr>\n",
       "  </tbody>\n",
       "</table>\n",
       "</div>"
      ],
      "text/plain": [
       "Prediccion                     Agua  Alcantarillado  Alumbrado  Limpieza  \\\n",
       "Real                                                                       \n",
       "Agua                              6               0          1         0   \n",
       "Alcantarillado                    0               8          1         0   \n",
       "Alumbrado                         0               0          9         0   \n",
       "Limpieza                          0               2          0        10   \n",
       "Mobiliario Urbano                 0               1          0         0   \n",
       "Parques y jardines                0               0          0         1   \n",
       "Plagas de insectos y roedores     0               0          1         0   \n",
       "Vía Pública                       0               1          0         0   \n",
       "All                               6              12         12        11   \n",
       "\n",
       "Prediccion                     Mobiliario Urbano  Parques y jardines  \\\n",
       "Real                                                                   \n",
       "Agua                                           0                   1   \n",
       "Alcantarillado                                 0                   0   \n",
       "Alumbrado                                      1                   0   \n",
       "Limpieza                                       1                   0   \n",
       "Mobiliario Urbano                              5                   1   \n",
       "Parques y jardines                             0                   3   \n",
       "Plagas de insectos y roedores                  0                   0   \n",
       "Vía Pública                                    2                   3   \n",
       "All                                            9                   8   \n",
       "\n",
       "Prediccion                     Plagas de insectos y roedores  Vía Pública  All  \n",
       "Real                                                                            \n",
       "Agua                                                       0            0    8  \n",
       "Alcantarillado                                             1            0   10  \n",
       "Alumbrado                                                  1            0   11  \n",
       "Limpieza                                                   0            1   14  \n",
       "Mobiliario Urbano                                          0            0    7  \n",
       "Parques y jardines                                         1            0    5  \n",
       "Plagas de insectos y roedores                              2            0    3  \n",
       "Vía Pública                                                0            2    8  \n",
       "All                                                        5            3   66  "
      ]
     },
     "execution_count": 22,
     "metadata": {},
     "output_type": "execute_result"
    }
   ],
   "source": [
    "# Matriz de Confusión:\n",
    "resultados = pd.DataFrame({'Real': y_test, 'Prediccion': prediccion})\n",
    "pd.crosstab(resultados['Real'], resultados['Prediccion'], margins = True)"
   ]
  },
  {
   "cell_type": "markdown",
   "metadata": {},
   "source": [
    "### Mejoras del clasificador\n",
    "Como actividad opcional, intenta mejorar los resultados de estos clasificadores utilizando otras técnicas, como por ejemplo:  \n",
    "- Distintos clasificadores a los utilizados\n",
    "- Realizando una reducción de dimensionalidad LDA o LSA del texto\n",
    "- Utilizando una matriz de características basada en Word Vectors o Paragraph Vectors"
   ]
  },
  {
   "cell_type": "code",
   "execution_count": 23,
   "metadata": {},
   "outputs": [],
   "source": [
    "# PARA TRATAR DE MEJORAR LAS PREDICCIONES DE LOS MODELOS, DEFINIMOS UNA FUNCIÓN PARA EXTRAER LAS RAÍCES (LEMMAS):\n",
    "\n",
    "def lemmatize_text(text):\n",
    "    \"\"\"Convertimos el texto a tokens, extraemos el lema de cada token\n",
    "    y volvemos a convertir en cadena de texto\"\"\"\n",
    "    tokens = nlp(text)\n",
    "    lemmatized_tokens = [tok.lemma_ for tok in tokens]\n",
    "    lemmatized_text = ' '.join(lemmatized_tokens)\n",
    "    \n",
    "    return lemmatized_text\n"
   ]
  },
  {
   "cell_type": "code",
   "execution_count": 24,
   "metadata": {},
   "outputs": [
    {
     "data": {
      "text/html": [
       "<div>\n",
       "<style scoped>\n",
       "    .dataframe tbody tr th:only-of-type {\n",
       "        vertical-align: middle;\n",
       "    }\n",
       "\n",
       "    .dataframe tbody tr th {\n",
       "        vertical-align: top;\n",
       "    }\n",
       "\n",
       "    .dataframe thead th {\n",
       "        text-align: right;\n",
       "    }\n",
       "</style>\n",
       "<table border=\"1\" class=\"dataframe\">\n",
       "  <thead>\n",
       "    <tr style=\"text-align: right;\">\n",
       "      <th></th>\n",
       "      <th>Tipología</th>\n",
       "      <th>Observaciones</th>\n",
       "    </tr>\n",
       "  </thead>\n",
       "  <tbody>\n",
       "    <tr>\n",
       "      <th>88</th>\n",
       "      <td>Vía Pública</td>\n",
       "      <td>puerta rota en la casa abandonada de la parcela xxxx</td>\n",
       "    </tr>\n",
       "    <tr>\n",
       "      <th>212</th>\n",
       "      <td>Alcantarillado</td>\n",
       "      <td>rejilla embozada con restos de la cabalgata de reyes hay que recoger mejor el confetti y lo qque se tira</td>\n",
       "    </tr>\n",
       "    <tr>\n",
       "      <th>7</th>\n",
       "      <td>Agua</td>\n",
       "      <td>en el jardín botánico el grifo pierde</td>\n",
       "    </tr>\n",
       "    <tr>\n",
       "      <th>24</th>\n",
       "      <td>Mobiliario Urbano</td>\n",
       "      <td>el mirador del regajo está roto se ha caído la valla</td>\n",
       "    </tr>\n",
       "    <tr>\n",
       "      <th>92</th>\n",
       "      <td>Alcantarillado</td>\n",
       "      <td>arqueta de alcantarilla rota agujero peligroso para niños y mayores</td>\n",
       "    </tr>\n",
       "  </tbody>\n",
       "</table>\n",
       "</div>"
      ],
      "text/plain": [
       "             Tipología  \\\n",
       "88         Vía Pública   \n",
       "212     Alcantarillado   \n",
       "7                 Agua   \n",
       "24   Mobiliario Urbano   \n",
       "92      Alcantarillado   \n",
       "\n",
       "                                                                                                Observaciones  \n",
       "88                                                       puerta rota en la casa abandonada de la parcela xxxx  \n",
       "212  rejilla embozada con restos de la cabalgata de reyes hay que recoger mejor el confetti y lo qque se tira  \n",
       "7                                                                       en el jardín botánico el grifo pierde  \n",
       "24                                                       el mirador del regajo está roto se ha caído la valla  \n",
       "92                                        arqueta de alcantarilla rota agujero peligroso para niños y mayores  "
      ]
     },
     "execution_count": 24,
     "metadata": {},
     "output_type": "execute_result"
    }
   ],
   "source": [
    "datos.Observaciones = datos.Observaciones.apply(clean_text)\n",
    "datos.sample(5)"
   ]
  },
  {
   "cell_type": "markdown",
   "metadata": {},
   "source": [
    "### LEMMATIZAMOS LA VARIABLE \"OBSERVACIONES\" DE NUESTRO DATAFRAME:"
   ]
  },
  {
   "cell_type": "code",
   "execution_count": 25,
   "metadata": {},
   "outputs": [
    {
     "data": {
      "text/html": [
       "<div>\n",
       "<style scoped>\n",
       "    .dataframe tbody tr th:only-of-type {\n",
       "        vertical-align: middle;\n",
       "    }\n",
       "\n",
       "    .dataframe tbody tr th {\n",
       "        vertical-align: top;\n",
       "    }\n",
       "\n",
       "    .dataframe thead th {\n",
       "        text-align: right;\n",
       "    }\n",
       "</style>\n",
       "<table border=\"1\" class=\"dataframe\">\n",
       "  <thead>\n",
       "    <tr style=\"text-align: right;\">\n",
       "      <th></th>\n",
       "      <th>Tipología</th>\n",
       "      <th>Observaciones</th>\n",
       "      <th>lemmas</th>\n",
       "    </tr>\n",
       "  </thead>\n",
       "  <tbody>\n",
       "    <tr>\n",
       "      <th>63</th>\n",
       "      <td>Mobiliario Urbano</td>\n",
       "      <td>bancos rotos pero recién pintados</td>\n",
       "      <td>banco roto pero recién pintar</td>\n",
       "    </tr>\n",
       "    <tr>\n",
       "      <th>37</th>\n",
       "      <td>Vía Pública</td>\n",
       "      <td>charco muy grande en la carretera al observatorio no se puede pasar en coche</td>\n",
       "      <td>charco muy grande en lo carretero al observatorio no se poder pasar en coche</td>\n",
       "    </tr>\n",
       "    <tr>\n",
       "      <th>98</th>\n",
       "      <td>Vía Pública</td>\n",
       "      <td>calle en muy mal estado necesito poder llegar a mi casa bien viven personas mayores</td>\n",
       "      <td>callar en muy mal estar necesitar poder llegar a mi casar bien vivir personar mayor</td>\n",
       "    </tr>\n",
       "    <tr>\n",
       "      <th>61</th>\n",
       "      <td>Alumbrado</td>\n",
       "      <td>me falla la luz en la granja ha pasado dos días y esto no puede ser</td>\n",
       "      <td>me fallo lo luz en lo granja haber pasar do día y este no poder ser</td>\n",
       "    </tr>\n",
       "    <tr>\n",
       "      <th>80</th>\n",
       "      <td>Vía Pública</td>\n",
       "      <td>coches aparcados de cualquier manera en la zona de la ermita molestan a los que vamos paseando y con niños</td>\n",
       "      <td>coche aparcar de cualquiera manera en lo zona de lo ermita molestar a lo que ir pasear y con niño</td>\n",
       "    </tr>\n",
       "  </tbody>\n",
       "</table>\n",
       "</div>"
      ],
      "text/plain": [
       "            Tipología  \\\n",
       "63  Mobiliario Urbano   \n",
       "37        Vía Pública   \n",
       "98        Vía Pública   \n",
       "61          Alumbrado   \n",
       "80        Vía Pública   \n",
       "\n",
       "                                                                                                 Observaciones  \\\n",
       "63                                                                           bancos rotos pero recién pintados   \n",
       "37                                charco muy grande en la carretera al observatorio no se puede pasar en coche   \n",
       "98                         calle en muy mal estado necesito poder llegar a mi casa bien viven personas mayores   \n",
       "61                                         me falla la luz en la granja ha pasado dos días y esto no puede ser   \n",
       "80  coches aparcados de cualquier manera en la zona de la ermita molestan a los que vamos paseando y con niños   \n",
       "\n",
       "                                                                                               lemmas  \n",
       "63                                                                      banco roto pero recién pintar  \n",
       "37                       charco muy grande en lo carretero al observatorio no se poder pasar en coche  \n",
       "98                callar en muy mal estar necesitar poder llegar a mi casar bien vivir personar mayor  \n",
       "61                                me fallo lo luz en lo granja haber pasar do día y este no poder ser  \n",
       "80  coche aparcar de cualquiera manera en lo zona de lo ermita molestar a lo que ir pasear y con niño  "
      ]
     },
     "execution_count": 25,
     "metadata": {},
     "output_type": "execute_result"
    }
   ],
   "source": [
    "datos['lemmas'] = datos.Observaciones.apply(lemmatize_text)\n",
    "datos.sample(5)"
   ]
  },
  {
   "cell_type": "markdown",
   "metadata": {},
   "source": [
    "#### APLICAMOS NUESTROS MODELOS SOBRE LA VARIABLE \"OBSERVACIONES\" LIMPIADA Y LEMMATIZADA:"
   ]
  },
  {
   "cell_type": "code",
   "execution_count": 26,
   "metadata": {},
   "outputs": [],
   "source": [
    "# DIVIDIMOS LOS DATOS (LIMPIADOS Y LEMMATIZADOS) EN DOS CONJUNTOS DE TRAINING (70% Y TEST (30%):\n",
    "\n",
    "from sklearn.model_selection import train_test_split\n",
    "\n",
    "# Split data into training and test sets:\n",
    "X_train, X_test, y_train, y_test = train_test_split(datos['lemmas'], datos['Tipología'], test_size = 0.3, random_state = 0)\n"
   ]
  },
  {
   "cell_type": "markdown",
   "metadata": {},
   "source": [
    "### NUEVOS CLASIFICADORES: ÁRBOLES DE DECISIÓN, RANDOM FOREST y K-NEAREST NEIGHBORS"
   ]
  },
  {
   "cell_type": "code",
   "execution_count": 27,
   "metadata": {},
   "outputs": [],
   "source": [
    "# COMPLETAR:\n",
    "from sklearn.tree            import DecisionTreeClassifier # Árbol de Decisión \n",
    "from sklearn.ensemble.forest import RandomForestClassifier # Modelo Random-Forest \n",
    "from sklearn.neighbors       import KNeighborsClassifier   # Modelo K-Nearest Neighbors\n",
    "\n",
    "# DEFINIMOS LOS NUEVOS MODELOS QUE VAMOS A APLICAR A NUESTRO CONJUNTO DE DATOS:\n",
    "\n",
    "modelDTC = DecisionTreeClassifier()\n",
    "modelRFT = RandomForestClassifier()\n",
    "modelKNN = KNeighborsClassifier()\n",
    "\n",
    "modelos2 = [('Decision Tree Classifier', modelDTC),\n",
    "            ('Random Forest'           , modelRFT),\n",
    "            ('K-Nearest Neighbors'     , modelKNN)]\n"
   ]
  },
  {
   "cell_type": "code",
   "execution_count": 28,
   "metadata": {},
   "outputs": [
    {
     "name": "stdout",
     "output_type": "stream",
     "text": [
      "Modelo Decision Tree Classifier con características BoW\n",
      "                               precision    recall  f1-score   support\n",
      "\n",
      "                         Agua       1.00      0.50      0.67         8\n",
      "               Alcantarillado       0.80      0.80      0.80        10\n",
      "                    Alumbrado       1.00      0.91      0.95        11\n",
      "                     Limpieza       1.00      0.21      0.35        14\n",
      "            Mobiliario Urbano       0.38      0.43      0.40         7\n",
      "           Parques y jardines       0.50      0.40      0.44         5\n",
      "Plagas de insectos y roedores       0.60      1.00      0.75         3\n",
      "                  Vía Pública       0.23      0.62      0.33         8\n",
      "\n",
      "                     accuracy                           0.58        66\n",
      "                    macro avg       0.69      0.61      0.59        66\n",
      "                 weighted avg       0.75      0.58      0.59        66\n",
      "\n",
      "Modelo Random Forest con características BoW\n",
      "                               precision    recall  f1-score   support\n",
      "\n",
      "                         Agua       1.00      0.75      0.86         8\n",
      "               Alcantarillado       0.78      0.70      0.74        10\n",
      "                    Alumbrado       1.00      0.91      0.95        11\n",
      "                     Limpieza       1.00      0.50      0.67        14\n",
      "            Mobiliario Urbano       0.38      0.86      0.52         7\n",
      "           Parques y jardines       0.43      0.60      0.50         5\n",
      "Plagas de insectos y roedores       0.75      1.00      0.86         3\n",
      "                  Vía Pública       0.29      0.25      0.27         8\n",
      "\n",
      "                     accuracy                           0.67        66\n",
      "                    macro avg       0.70      0.70      0.67        66\n",
      "                 weighted avg       0.76      0.67      0.68        66\n",
      "\n",
      "Modelo K-Nearest Neighbors con características BoW\n",
      "                               precision    recall  f1-score   support\n",
      "\n",
      "                         Agua       0.33      0.50      0.40         8\n",
      "               Alcantarillado       0.56      0.50      0.53        10\n",
      "                    Alumbrado       0.40      0.55      0.46        11\n",
      "                     Limpieza       1.00      0.21      0.35        14\n",
      "            Mobiliario Urbano       0.40      0.29      0.33         7\n",
      "           Parques y jardines       0.23      0.60      0.33         5\n",
      "Plagas de insectos y roedores       0.75      1.00      0.86         3\n",
      "                  Vía Pública       0.00      0.00      0.00         8\n",
      "\n",
      "                     accuracy                           0.39        66\n",
      "                    macro avg       0.46      0.46      0.41        66\n",
      "                 weighted avg       0.50      0.39      0.38        66\n",
      "\n",
      "Modelo Decision Tree Classifier con características TF-IDF\n",
      "                               precision    recall  f1-score   support\n",
      "\n",
      "                         Agua       0.86      0.75      0.80         8\n",
      "               Alcantarillado       0.75      0.60      0.67        10\n",
      "                    Alumbrado       1.00      0.82      0.90        11\n",
      "                     Limpieza       0.57      0.29      0.38        14\n",
      "            Mobiliario Urbano       0.38      0.43      0.40         7\n",
      "           Parques y jardines       0.22      0.40      0.29         5\n",
      "Plagas de insectos y roedores       0.75      1.00      0.86         3\n",
      "                  Vía Pública       0.29      0.50      0.36         8\n",
      "\n",
      "                     accuracy                           0.56        66\n",
      "                    macro avg       0.60      0.60      0.58        66\n",
      "                 weighted avg       0.63      0.56      0.58        66\n",
      "\n",
      "Modelo Random Forest con características TF-IDF\n",
      "                               precision    recall  f1-score   support\n",
      "\n",
      "                         Agua       0.86      0.75      0.80         8\n",
      "               Alcantarillado       0.78      0.70      0.74        10\n",
      "                    Alumbrado       0.91      0.91      0.91        11\n",
      "                     Limpieza       0.86      0.43      0.57        14\n",
      "            Mobiliario Urbano       0.38      0.71      0.50         7\n",
      "           Parques y jardines       0.33      0.60      0.43         5\n",
      "Plagas de insectos y roedores       1.00      1.00      1.00         3\n",
      "                  Vía Pública       0.29      0.25      0.27         8\n",
      "\n",
      "                     accuracy                           0.64        66\n",
      "                    macro avg       0.68      0.67      0.65        66\n",
      "                 weighted avg       0.70      0.64      0.64        66\n",
      "\n",
      "Modelo K-Nearest Neighbors con características TF-IDF\n",
      "                               precision    recall  f1-score   support\n",
      "\n",
      "                         Agua       0.86      0.75      0.80         8\n",
      "               Alcantarillado       0.75      0.90      0.82        10\n",
      "                    Alumbrado       0.67      0.73      0.70        11\n",
      "                     Limpieza       0.88      0.50      0.64        14\n",
      "            Mobiliario Urbano       0.40      0.57      0.47         7\n",
      "           Parques y jardines       0.25      0.40      0.31         5\n",
      "Plagas de insectos y roedores       0.60      1.00      0.75         3\n",
      "                  Vía Pública       0.25      0.12      0.17         8\n",
      "\n",
      "                     accuracy                           0.61        66\n",
      "                    macro avg       0.58      0.62      0.58        66\n",
      "                 weighted avg       0.63      0.61      0.60        66\n",
      "\n"
     ]
    }
   ],
   "source": [
    "bow_vectorizer, bow_train_features = bow_extractor(X_train)\n",
    "bow_test_features                  = bow_vectorizer.transform(X_test)\n",
    "\n",
    "for m, clf in modelos2:\n",
    "    print('Modelo {} con características BoW'.format(m))\n",
    "    tfidf_predictions = train_predict_evaluate_model(classifier     = clf, \n",
    "                                                     train_features = bow_train_features, \n",
    "                                                     train_labels   = y_train, \n",
    "                                                     test_features  = bow_test_features, \n",
    "                                                     test_labels    = y_test)\n",
    "\n",
    "tfidf_vectorizer, tfidf_train_features = tfidf_extractor(X_train)\n",
    "tfidf_test_features                    = tfidf_vectorizer.transform(X_test)\n",
    "\n",
    "for m, clf in modelos2:\n",
    "    print('Modelo {} con características TF-IDF'.format(m))\n",
    "    tfidf_predictions = train_predict_evaluate_model(classifier     = clf, \n",
    "                                                     train_features = tfidf_train_features,\n",
    "                                                     train_labels   = y_train,\n",
    "                                                     test_features  = tfidf_test_features,\n",
    "                                                     test_labels    = y_test)\n"
   ]
  },
  {
   "cell_type": "code",
   "execution_count": 29,
   "metadata": {},
   "outputs": [
    {
     "name": "stdout",
     "output_type": "stream",
     "text": [
      "Entrenando con 1935 características\n",
      "Modelo Decision Tree Classifier con características TF-IDF optimizadas\n",
      "                               precision    recall  f1-score   support\n",
      "\n",
      "                         Agua       0.86      0.75      0.80         8\n",
      "               Alcantarillado       0.78      0.70      0.74        10\n",
      "                    Alumbrado       1.00      0.91      0.95        11\n",
      "                     Limpieza       0.88      0.50      0.64        14\n",
      "            Mobiliario Urbano       0.25      0.43      0.32         7\n",
      "           Parques y jardines       0.43      0.60      0.50         5\n",
      "Plagas de insectos y roedores       0.75      1.00      0.86         3\n",
      "                  Vía Pública       0.44      0.50      0.47         8\n",
      "\n",
      "                     accuracy                           0.65        66\n",
      "                    macro avg       0.67      0.67      0.66        66\n",
      "                 weighted avg       0.72      0.65      0.67        66\n",
      "\n",
      "Modelo Random Forest con características TF-IDF optimizadas\n",
      "                               precision    recall  f1-score   support\n",
      "\n",
      "                         Agua       0.86      0.75      0.80         8\n",
      "               Alcantarillado       1.00      0.60      0.75        10\n",
      "                    Alumbrado       0.77      0.91      0.83        11\n",
      "                     Limpieza       1.00      0.36      0.53        14\n",
      "            Mobiliario Urbano       0.43      0.86      0.57         7\n",
      "           Parques y jardines       0.33      0.60      0.43         5\n",
      "Plagas de insectos y roedores       1.00      0.67      0.80         3\n",
      "                  Vía Pública       0.30      0.38      0.33         8\n",
      "\n",
      "                     accuracy                           0.62        66\n",
      "                    macro avg       0.71      0.64      0.63        66\n",
      "                 weighted avg       0.75      0.62      0.63        66\n",
      "\n",
      "Modelo K-Nearest Neighbors con características TF-IDF optimizadas\n",
      "                               precision    recall  f1-score   support\n",
      "\n",
      "                         Agua       0.56      0.62      0.59         8\n",
      "               Alcantarillado       0.70      0.70      0.70        10\n",
      "                    Alumbrado       0.60      0.82      0.69        11\n",
      "                     Limpieza       0.88      0.50      0.64        14\n",
      "            Mobiliario Urbano       0.62      0.71      0.67         7\n",
      "           Parques y jardines       0.25      0.40      0.31         5\n",
      "Plagas de insectos y roedores       0.67      0.67      0.67         3\n",
      "                  Vía Pública       0.20      0.12      0.15         8\n",
      "\n",
      "                     accuracy                           0.58        66\n",
      "                    macro avg       0.56      0.57      0.55        66\n",
      "                 weighted avg       0.60      0.58      0.57        66\n",
      "\n"
     ]
    }
   ],
   "source": [
    "vect_opt = TfidfVectorizer(min_df = 1, ngram_range = (1,2), max_df = 0.5).fit(X_train)\n",
    "\n",
    "X_train_vectorized = vect_opt.transform(X_train)\n",
    "X_test_vectorized  = vect_opt.transform(X_test)\n",
    "\n",
    "print('Entrenando con {} características'.format(len(vect_opt.get_feature_names())))\n",
    "\n",
    "for m, clf in modelos2:\n",
    "    print('Modelo {} con características TF-IDF optimizadas'.format(m))\n",
    "    tfidf_predictions = train_predict_evaluate_model(classifier     = clf,\n",
    "                                                     train_features = X_train_vectorized,\n",
    "                                                     train_labels   = y_train,\n",
    "                                                     test_features  = X_test_vectorized,\n",
    "                                                     test_labels    = y_test)\n"
   ]
  },
  {
   "cell_type": "markdown",
   "metadata": {},
   "source": [
    "#### EL MODELO QUE MEJOR FUNCIONA (EN TÉRMINOS DE ACCURACY) CON ESTE DATASET LIMPIADO y LEMMATIZADO ES UN ÁRBOL DE DECISIÓN CON CARACTERÍSTICAS TF-IDF."
   ]
  },
  {
   "cell_type": "code",
   "execution_count": 30,
   "metadata": {},
   "outputs": [
    {
     "name": "stdout",
     "output_type": "stream",
     "text": [
      "                               precision    recall  f1-score   support\n",
      "\n",
      "                         Agua       0.86      0.75      0.80         8\n",
      "               Alcantarillado       0.60      0.60      0.60        10\n",
      "                    Alumbrado       1.00      0.91      0.95        11\n",
      "                     Limpieza       0.88      0.50      0.64        14\n",
      "            Mobiliario Urbano       0.27      0.43      0.33         7\n",
      "           Parques y jardines       0.50      0.60      0.55         5\n",
      "Plagas de insectos y roedores       0.75      1.00      0.86         3\n",
      "                  Vía Pública       0.40      0.50      0.44         8\n",
      "\n",
      "                     accuracy                           0.64        66\n",
      "                    macro avg       0.66      0.66      0.65        66\n",
      "                 weighted avg       0.70      0.64      0.65        66\n",
      "\n"
     ]
    }
   ],
   "source": [
    "prediccion = train_predict_evaluate_model(classifier     = modelDTC,\n",
    "                                          train_features = X_train_vectorized,\n",
    "                                          train_labels   = y_train,\n",
    "                                          test_features  = X_test_vectorized,\n",
    "                                          test_labels    = y_test)\n"
   ]
  },
  {
   "cell_type": "code",
   "execution_count": 31,
   "metadata": {},
   "outputs": [
    {
     "data": {
      "text/html": [
       "<div>\n",
       "<style scoped>\n",
       "    .dataframe tbody tr th:only-of-type {\n",
       "        vertical-align: middle;\n",
       "    }\n",
       "\n",
       "    .dataframe tbody tr th {\n",
       "        vertical-align: top;\n",
       "    }\n",
       "\n",
       "    .dataframe thead th {\n",
       "        text-align: right;\n",
       "    }\n",
       "</style>\n",
       "<table border=\"1\" class=\"dataframe\">\n",
       "  <thead>\n",
       "    <tr style=\"text-align: right;\">\n",
       "      <th>Prediccion</th>\n",
       "      <th>Agua</th>\n",
       "      <th>Alcantarillado</th>\n",
       "      <th>Alumbrado</th>\n",
       "      <th>Limpieza</th>\n",
       "      <th>Mobiliario Urbano</th>\n",
       "      <th>Parques y jardines</th>\n",
       "      <th>Plagas de insectos y roedores</th>\n",
       "      <th>Vía Pública</th>\n",
       "      <th>All</th>\n",
       "    </tr>\n",
       "    <tr>\n",
       "      <th>Real</th>\n",
       "      <th></th>\n",
       "      <th></th>\n",
       "      <th></th>\n",
       "      <th></th>\n",
       "      <th></th>\n",
       "      <th></th>\n",
       "      <th></th>\n",
       "      <th></th>\n",
       "      <th></th>\n",
       "    </tr>\n",
       "  </thead>\n",
       "  <tbody>\n",
       "    <tr>\n",
       "      <th>Agua</th>\n",
       "      <td>6</td>\n",
       "      <td>0</td>\n",
       "      <td>0</td>\n",
       "      <td>0</td>\n",
       "      <td>1</td>\n",
       "      <td>1</td>\n",
       "      <td>0</td>\n",
       "      <td>0</td>\n",
       "      <td>8</td>\n",
       "    </tr>\n",
       "    <tr>\n",
       "      <th>Alcantarillado</th>\n",
       "      <td>1</td>\n",
       "      <td>6</td>\n",
       "      <td>0</td>\n",
       "      <td>0</td>\n",
       "      <td>1</td>\n",
       "      <td>1</td>\n",
       "      <td>0</td>\n",
       "      <td>1</td>\n",
       "      <td>10</td>\n",
       "    </tr>\n",
       "    <tr>\n",
       "      <th>Alumbrado</th>\n",
       "      <td>0</td>\n",
       "      <td>0</td>\n",
       "      <td>10</td>\n",
       "      <td>0</td>\n",
       "      <td>1</td>\n",
       "      <td>0</td>\n",
       "      <td>0</td>\n",
       "      <td>0</td>\n",
       "      <td>11</td>\n",
       "    </tr>\n",
       "    <tr>\n",
       "      <th>Limpieza</th>\n",
       "      <td>0</td>\n",
       "      <td>1</td>\n",
       "      <td>0</td>\n",
       "      <td>7</td>\n",
       "      <td>3</td>\n",
       "      <td>0</td>\n",
       "      <td>1</td>\n",
       "      <td>2</td>\n",
       "      <td>14</td>\n",
       "    </tr>\n",
       "    <tr>\n",
       "      <th>Mobiliario Urbano</th>\n",
       "      <td>0</td>\n",
       "      <td>1</td>\n",
       "      <td>0</td>\n",
       "      <td>1</td>\n",
       "      <td>3</td>\n",
       "      <td>0</td>\n",
       "      <td>0</td>\n",
       "      <td>2</td>\n",
       "      <td>7</td>\n",
       "    </tr>\n",
       "    <tr>\n",
       "      <th>Parques y jardines</th>\n",
       "      <td>0</td>\n",
       "      <td>0</td>\n",
       "      <td>0</td>\n",
       "      <td>0</td>\n",
       "      <td>1</td>\n",
       "      <td>3</td>\n",
       "      <td>0</td>\n",
       "      <td>1</td>\n",
       "      <td>5</td>\n",
       "    </tr>\n",
       "    <tr>\n",
       "      <th>Plagas de insectos y roedores</th>\n",
       "      <td>0</td>\n",
       "      <td>0</td>\n",
       "      <td>0</td>\n",
       "      <td>0</td>\n",
       "      <td>0</td>\n",
       "      <td>0</td>\n",
       "      <td>3</td>\n",
       "      <td>0</td>\n",
       "      <td>3</td>\n",
       "    </tr>\n",
       "    <tr>\n",
       "      <th>Vía Pública</th>\n",
       "      <td>0</td>\n",
       "      <td>2</td>\n",
       "      <td>0</td>\n",
       "      <td>0</td>\n",
       "      <td>1</td>\n",
       "      <td>1</td>\n",
       "      <td>0</td>\n",
       "      <td>4</td>\n",
       "      <td>8</td>\n",
       "    </tr>\n",
       "    <tr>\n",
       "      <th>All</th>\n",
       "      <td>7</td>\n",
       "      <td>10</td>\n",
       "      <td>10</td>\n",
       "      <td>8</td>\n",
       "      <td>11</td>\n",
       "      <td>6</td>\n",
       "      <td>4</td>\n",
       "      <td>10</td>\n",
       "      <td>66</td>\n",
       "    </tr>\n",
       "  </tbody>\n",
       "</table>\n",
       "</div>"
      ],
      "text/plain": [
       "Prediccion                     Agua  Alcantarillado  Alumbrado  Limpieza  \\\n",
       "Real                                                                       \n",
       "Agua                              6               0          0         0   \n",
       "Alcantarillado                    1               6          0         0   \n",
       "Alumbrado                         0               0         10         0   \n",
       "Limpieza                          0               1          0         7   \n",
       "Mobiliario Urbano                 0               1          0         1   \n",
       "Parques y jardines                0               0          0         0   \n",
       "Plagas de insectos y roedores     0               0          0         0   \n",
       "Vía Pública                       0               2          0         0   \n",
       "All                               7              10         10         8   \n",
       "\n",
       "Prediccion                     Mobiliario Urbano  Parques y jardines  \\\n",
       "Real                                                                   \n",
       "Agua                                           1                   1   \n",
       "Alcantarillado                                 1                   1   \n",
       "Alumbrado                                      1                   0   \n",
       "Limpieza                                       3                   0   \n",
       "Mobiliario Urbano                              3                   0   \n",
       "Parques y jardines                             1                   3   \n",
       "Plagas de insectos y roedores                  0                   0   \n",
       "Vía Pública                                    1                   1   \n",
       "All                                           11                   6   \n",
       "\n",
       "Prediccion                     Plagas de insectos y roedores  Vía Pública  All  \n",
       "Real                                                                            \n",
       "Agua                                                       0            0    8  \n",
       "Alcantarillado                                             0            1   10  \n",
       "Alumbrado                                                  0            0   11  \n",
       "Limpieza                                                   1            2   14  \n",
       "Mobiliario Urbano                                          0            2    7  \n",
       "Parques y jardines                                         0            1    5  \n",
       "Plagas de insectos y roedores                              3            0    3  \n",
       "Vía Pública                                                0            4    8  \n",
       "All                                                        4           10   66  "
      ]
     },
     "execution_count": 31,
     "metadata": {},
     "output_type": "execute_result"
    }
   ],
   "source": [
    "# Matriz de Confusión:\n",
    "resultados = pd.DataFrame({'Real': y_test, 'Prediccion': prediccion})\n",
    "pd.crosstab(resultados['Real'], resultados['Prediccion'], margins = True)"
   ]
  },
  {
   "cell_type": "markdown",
   "metadata": {},
   "source": [
    "### REDUCCIÓN DE DIMENSIONALIDAD LSA (Latent Semantic Analysis)"
   ]
  },
  {
   "cell_type": "code",
   "execution_count": 32,
   "metadata": {},
   "outputs": [],
   "source": [
    "datos = pd.read_csv('incidencias.csv', sep = \";\")\n",
    "datos = datos.drop('Original', axis = 1)"
   ]
  },
  {
   "cell_type": "code",
   "execution_count": 33,
   "metadata": {},
   "outputs": [],
   "source": [
    "datos.Observaciones = datos.Observaciones.apply(clean_text)\n",
    "datos['lemmas']     = datos.Observaciones.apply(lemmatize_text)"
   ]
  },
  {
   "cell_type": "code",
   "execution_count": 34,
   "metadata": {},
   "outputs": [],
   "source": [
    "from sklearn.model_selection import train_test_split\n",
    "\n",
    "X_train, X_test, y_train, y_test = train_test_split(datos['lemmas'], datos['Tipología'], test_size = 0.3, random_state = 0)"
   ]
  },
  {
   "cell_type": "code",
   "execution_count": 35,
   "metadata": {},
   "outputs": [],
   "source": [
    "from sklearn.feature_extraction.text import TfidfVectorizer\n",
    "from sklearn.decomposition           import TruncatedSVD\n",
    "from sklearn.preprocessing           import Normalizer\n",
    "from sklearn.pipeline                import make_pipeline\n",
    "\n",
    "def lsa_extractor(corpus, n_dim = 100):\n",
    "    '''(vectorizer, features) = lsa_extractor(corpus, n_dim=50)\n",
    "    Función que genera un modelo Latent Semantic Analysis\n",
    "    sobre un corpus de texto (pasado como lista de textos)\n",
    "    utilizando n_dim dimensiones\n",
    "    Devuelve el modelo LSA ya entrenado y el vector sobre el corpus'''\n",
    "    \n",
    "    tfidf      = TfidfVectorizer(use_idf = True)\n",
    "    svd        = TruncatedSVD(n_dim)\n",
    "    vectorizer = make_pipeline(tfidf, svd, Normalizer(copy = False))\n",
    "    features   = vectorizer.fit_transform(corpus)\n",
    "    return vectorizer, features\n"
   ]
  },
  {
   "cell_type": "code",
   "execution_count": 36,
   "metadata": {},
   "outputs": [],
   "source": [
    "# Creamos los vectores de características LSA con 100 dimensiones:\n",
    "lsa_vectorizer, lsa_train_features = lsa_extractor(X_train, n_dim = 100)  \n",
    "lsa_test_features                  = lsa_vectorizer.transform(X_test)\n"
   ]
  },
  {
   "cell_type": "code",
   "execution_count": 37,
   "metadata": {},
   "outputs": [
    {
     "name": "stdout",
     "output_type": "stream",
     "text": [
      "Modelo Logistic Regression con características LSA-100:\n",
      "                               precision    recall  f1-score   support\n",
      "\n",
      "                         Agua       1.00      0.75      0.86         8\n",
      "               Alcantarillado       0.80      0.80      0.80        10\n",
      "                    Alumbrado       0.91      0.91      0.91        11\n",
      "                     Limpieza       1.00      0.43      0.60        14\n",
      "            Mobiliario Urbano       0.45      0.71      0.56         7\n",
      "           Parques y jardines       0.42      1.00      0.59         5\n",
      "Plagas de insectos y roedores       0.60      1.00      0.75         3\n",
      "                  Vía Pública       0.40      0.25      0.31         8\n",
      "\n",
      "                     accuracy                           0.68        66\n",
      "                    macro avg       0.70      0.73      0.67        66\n",
      "                 weighted avg       0.76      0.68      0.68        66\n",
      "\n",
      "Modelo Random Forest con características LSA-100:\n",
      "                               precision    recall  f1-score   support\n",
      "\n",
      "                         Agua       0.71      0.62      0.67         8\n",
      "               Alcantarillado       0.56      0.50      0.53        10\n",
      "                    Alumbrado       0.70      0.64      0.67        11\n",
      "                     Limpieza       1.00      0.29      0.44        14\n",
      "            Mobiliario Urbano       0.27      0.57      0.36         7\n",
      "           Parques y jardines       0.36      0.80      0.50         5\n",
      "Plagas de insectos y roedores       1.00      1.00      1.00         3\n",
      "                  Vía Pública       0.57      0.50      0.53         8\n",
      "\n",
      "                     accuracy                           0.55        66\n",
      "                    macro avg       0.65      0.61      0.59        66\n",
      "                 weighted avg       0.67      0.55      0.55        66\n",
      "\n",
      "Modelo K-Nearest Neighbors con características LSA-100:\n",
      "                               precision    recall  f1-score   support\n",
      "\n",
      "                         Agua       0.75      0.75      0.75         8\n",
      "               Alcantarillado       0.73      0.80      0.76        10\n",
      "                    Alumbrado       0.73      0.73      0.73        11\n",
      "                     Limpieza       1.00      0.50      0.67        14\n",
      "            Mobiliario Urbano       0.57      0.57      0.57         7\n",
      "           Parques y jardines       0.18      0.40      0.25         5\n",
      "Plagas de insectos y roedores       0.75      1.00      0.86         3\n",
      "                  Vía Pública       0.29      0.25      0.27         8\n",
      "\n",
      "                     accuracy                           0.61        66\n",
      "                    macro avg       0.62      0.62      0.61        66\n",
      "                 weighted avg       0.68      0.61      0.62        66\n",
      "\n",
      "Modelo Linear SVM con características LSA-100:\n",
      "                               precision    recall  f1-score   support\n",
      "\n",
      "                         Agua       1.00      0.75      0.86         8\n",
      "               Alcantarillado       0.88      0.70      0.78        10\n",
      "                    Alumbrado       0.80      0.73      0.76        11\n",
      "                     Limpieza       0.86      0.43      0.57        14\n",
      "            Mobiliario Urbano       0.55      0.86      0.67         7\n",
      "           Parques y jardines       0.25      0.40      0.31         5\n",
      "Plagas de insectos y roedores       0.43      1.00      0.60         3\n",
      "                  Vía Pública       0.44      0.50      0.47         8\n",
      "\n",
      "                     accuracy                           0.64        66\n",
      "                    macro avg       0.65      0.67      0.63        66\n",
      "                 weighted avg       0.72      0.64      0.65        66\n",
      "\n"
     ]
    }
   ],
   "source": [
    "modelos = [('Logistic Regression'     , modelLGR),\n",
    "           ('Random Forest'           , modelRFT),\n",
    "           ('K-Nearest Neighbors'     , modelKNN),\n",
    "           ('Linear SVM'              , modelSVM)]\n",
    "\n",
    "# Entrenamos y validamos:\n",
    "for m, clf in modelos:\n",
    "    print('Modelo {} con características LSA-100:'.format(m))\n",
    "    tfidf_predictions = train_predict_evaluate_model(classifier     = clf,\n",
    "                                                     train_features = lsa_train_features,\n",
    "                                                     train_labels   = y_train,\n",
    "                                                     test_features  = lsa_test_features,\n",
    "                                                     test_labels    = y_test)"
   ]
  },
  {
   "cell_type": "markdown",
   "metadata": {},
   "source": [
    "### MODELO CON WORD EMBEDDINGS:"
   ]
  },
  {
   "cell_type": "code",
   "execution_count": 38,
   "metadata": {},
   "outputs": [
    {
     "data": {
      "text/plain": [
       "(50,)"
      ]
     },
     "execution_count": 38,
     "metadata": {},
     "output_type": "execute_result"
    }
   ],
   "source": [
    "tokens = nlp(datos.Observaciones[1])\n",
    "tokens[1].vector.shape"
   ]
  },
  {
   "cell_type": "code",
   "execution_count": 39,
   "metadata": {},
   "outputs": [
    {
     "data": {
      "text/plain": [
       "(50,)"
      ]
     },
     "execution_count": 39,
     "metadata": {},
     "output_type": "execute_result"
    }
   ],
   "source": [
    "issues = nlp(datos.Observaciones[1])\n",
    "issues.vector.shape"
   ]
  },
  {
   "cell_type": "code",
   "execution_count": 40,
   "metadata": {},
   "outputs": [],
   "source": [
    "word_embeddings = np.zeros((len(datos.Observaciones), issues.vector.shape[0]))"
   ]
  },
  {
   "cell_type": "code",
   "execution_count": 41,
   "metadata": {},
   "outputs": [
    {
     "data": {
      "text/plain": [
       "(220, 50)"
      ]
     },
     "execution_count": 41,
     "metadata": {},
     "output_type": "execute_result"
    }
   ],
   "source": [
    "vectors = [nlp(issues).vector for issues in datos.Observaciones]\n",
    "\n",
    "for i,vector in enumerate(vectors):\n",
    "    word_embeddings[i,:] = vector\n",
    "\n",
    "word_embeddings.shape"
   ]
  },
  {
   "cell_type": "code",
   "execution_count": 42,
   "metadata": {},
   "outputs": [],
   "source": [
    "X_train, X_test, y_train, y_test = train_test_split(word_embeddings, \n",
    "                                                    datos['Tipología'], \n",
    "                                                    test_size    = 0.3,\n",
    "                                                    random_state = 0)"
   ]
  },
  {
   "cell_type": "code",
   "execution_count": 43,
   "metadata": {},
   "outputs": [
    {
     "name": "stdout",
     "output_type": "stream",
     "text": [
      "Modelo Logistic Regression con características Word Embeddings promediados\n",
      "                               precision    recall  f1-score   support\n",
      "\n",
      "                         Agua       0.80      0.50      0.62         8\n",
      "               Alcantarillado       0.71      0.50      0.59        10\n",
      "                    Alumbrado       0.50      0.64      0.56        11\n",
      "                     Limpieza       0.64      0.50      0.56        14\n",
      "            Mobiliario Urbano       0.14      0.14      0.14         7\n",
      "           Parques y jardines       0.11      0.20      0.14         5\n",
      "Plagas de insectos y roedores       0.33      0.67      0.44         3\n",
      "                  Vía Pública       0.43      0.38      0.40         8\n",
      "\n",
      "                     accuracy                           0.45        66\n",
      "                    macro avg       0.46      0.44      0.43        66\n",
      "                 weighted avg       0.51      0.45      0.47        66\n",
      "\n",
      "Modelo Decision Tree Classifier con características Word Embeddings promediados\n",
      "                               precision    recall  f1-score   support\n",
      "\n",
      "                         Agua       0.40      0.25      0.31         8\n",
      "               Alcantarillado       0.40      0.40      0.40        10\n",
      "                    Alumbrado       0.50      0.27      0.35        11\n",
      "                     Limpieza       0.33      0.29      0.31        14\n",
      "            Mobiliario Urbano       0.12      0.14      0.13         7\n",
      "           Parques y jardines       0.08      0.20      0.11         5\n",
      "Plagas de insectos y roedores       0.20      0.33      0.25         3\n",
      "                  Vía Pública       0.00      0.00      0.00         8\n",
      "\n",
      "                     accuracy                           0.24        66\n",
      "                    macro avg       0.25      0.24      0.23        66\n",
      "                 weighted avg       0.29      0.24      0.26        66\n",
      "\n",
      "Modelo Random Forest con características Word Embeddings promediados\n",
      "                               precision    recall  f1-score   support\n",
      "\n",
      "                         Agua       0.33      0.25      0.29         8\n",
      "               Alcantarillado       0.60      0.30      0.40        10\n",
      "                    Alumbrado       0.44      0.36      0.40        11\n",
      "                     Limpieza       0.57      0.29      0.38        14\n",
      "            Mobiliario Urbano       0.21      0.43      0.29         7\n",
      "           Parques y jardines       0.00      0.00      0.00         5\n",
      "Plagas de insectos y roedores       0.10      0.33      0.15         3\n",
      "                  Vía Pública       0.43      0.38      0.40         8\n",
      "\n",
      "                     accuracy                           0.30        66\n",
      "                    macro avg       0.34      0.29      0.29        66\n",
      "                 weighted avg       0.41      0.30      0.33        66\n",
      "\n",
      "Modelo Gaussian Naive-Bayes con características Word Embeddings promediados\n",
      "                               precision    recall  f1-score   support\n",
      "\n",
      "                         Agua       0.50      0.25      0.33         8\n",
      "               Alcantarillado       0.33      0.30      0.32        10\n",
      "                    Alumbrado       0.33      0.36      0.35        11\n",
      "                     Limpieza       0.56      0.36      0.43        14\n",
      "            Mobiliario Urbano       0.22      0.29      0.25         7\n",
      "           Parques y jardines       0.00      0.00      0.00         5\n",
      "Plagas de insectos y roedores       0.20      0.33      0.25         3\n",
      "                  Vía Pública       0.50      0.38      0.43         8\n",
      "\n",
      "                     accuracy                           0.30        66\n",
      "                    macro avg       0.33      0.28      0.30        66\n",
      "                 weighted avg       0.38      0.30      0.33        66\n",
      "\n",
      "Modelo K-Nearest Neighbors con características Word Embeddings promediados\n",
      "                               precision    recall  f1-score   support\n",
      "\n",
      "                         Agua       0.42      1.00      0.59         8\n",
      "               Alcantarillado       0.25      0.30      0.27        10\n",
      "                    Alumbrado       0.57      0.36      0.44        11\n",
      "                     Limpieza       0.56      0.36      0.43        14\n",
      "            Mobiliario Urbano       1.00      0.14      0.25         7\n",
      "           Parques y jardines       0.22      0.40      0.29         5\n",
      "Plagas de insectos y roedores       0.67      0.67      0.67         3\n",
      "                  Vía Pública       0.17      0.12      0.14         8\n",
      "\n",
      "                     accuracy                           0.39        66\n",
      "                    macro avg       0.48      0.42      0.39        66\n",
      "                 weighted avg       0.48      0.39      0.38        66\n",
      "\n"
     ]
    },
    {
     "name": "stderr",
     "output_type": "stream",
     "text": [
      "C:\\Users\\calfo\\Anaconda3\\envs\\env_ml\\lib\\site-packages\\sklearn\\linear_model\\_logistic.py:940: ConvergenceWarning: lbfgs failed to converge (status=1):\n",
      "STOP: TOTAL NO. of ITERATIONS REACHED LIMIT.\n",
      "\n",
      "Increase the number of iterations (max_iter) or scale the data as shown in:\n",
      "    https://scikit-learn.org/stable/modules/preprocessing.html\n",
      "Please also refer to the documentation for alternative solver options:\n",
      "    https://scikit-learn.org/stable/modules/linear_model.html#logistic-regression\n",
      "  extra_warning_msg=_LOGISTIC_SOLVER_CONVERGENCE_MSG)\n"
     ]
    }
   ],
   "source": [
    "from sklearn.naive_bayes import GaussianNB\n",
    "from sklearn.svm         import SVC\n",
    "\n",
    "modelLGR = LogisticRegression    ()\n",
    "modelDTC = DecisionTreeClassifier()\n",
    "modelRFT = RandomForestClassifier()\n",
    "modelGNB = GaussianNB            ()\n",
    "modelKNN = KNeighborsClassifier  ()\n",
    "\n",
    "modelos = [('Logistic Regression'     , modelLGR),\n",
    "           ('Decision Tree Classifier', modelDTC),\n",
    "           ('Random Forest'           , modelRFT),\n",
    "           ('Gaussian Naive-Bayes'    , modelGNB),\n",
    "           ('K-Nearest Neighbors'     , modelKNN)]\n",
    "\n",
    "for m, clf in modelos:\n",
    "    print('Modelo {} con características Word Embeddings promediados'.format(m))\n",
    "    tfidf_predictions = train_predict_evaluate_model(classifier     = clf,\n",
    "                                                     train_features = X_train,\n",
    "                                                     train_labels   = y_train,\n",
    "                                                     test_features  = X_test,\n",
    "                                                     test_labels    = y_test)\n"
   ]
  },
  {
   "cell_type": "markdown",
   "metadata": {},
   "source": [
    "## CONCLUSIONES:\n",
    "\n",
    "- EL LEMMATIZADO DE LA VARIABLE TARGET MEJORA LOS RESULTADOS.\n",
    "- APLICAR UNA REDUCCIÓN DE DIMENSIONALIDAD LSA (Latent Semantic Analysis) MEJORA SIGNIFICATIVAMENTE LOS RESULTADOS.\n",
    "- LOS MODELOS CON WORD EMBEDDING PROMEDIADO FUNCIONAN PEOR QUE LOS MODELOS MÁS SIMPLES (BoW, TF-IDF) DEBIDO A QUE NUESTRO CONJUNTO DE DATOS ES MUY PEQUEÑO.\n",
    "- MEJOR ALGORITMO ENCONTRADO: MODELO DE REGRESIÓN LOGÍSTICA, CON CARACTERÍSTICAS TF-IDF, CON DATASET LEMMATIZADO Y REDUCCIÓN LSA DE 100 DIMENSIONES. "
   ]
  },
  {
   "cell_type": "code",
   "execution_count": null,
   "metadata": {},
   "outputs": [],
   "source": []
  }
 ],
 "metadata": {
  "kernelspec": {
   "display_name": "Python 3",
   "language": "python",
   "name": "python3"
  },
  "language_info": {
   "codemirror_mode": {
    "name": "ipython",
    "version": 3
   },
   "file_extension": ".py",
   "mimetype": "text/x-python",
   "name": "python",
   "nbconvert_exporter": "python",
   "pygments_lexer": "ipython3",
   "version": "3.7.7"
  }
 },
 "nbformat": 4,
 "nbformat_minor": 4
}
